{
  "nbformat": 4,
  "nbformat_minor": 0,
  "metadata": {
    "colab": {
      "provenance": []
    },
    "kernelspec": {
      "name": "python3",
      "display_name": "Python 3"
    },
    "language_info": {
      "name": "python"
    }
  },
  "cells": [
    {
      "cell_type": "markdown",
      "source": [
        "\n",
        "## Assignment : 02 ##\n",
        "**Name** :  Snehal Awadan\n",
        "\n",
        "**PRN**:  240340128033\n",
        "\n",
        "**Module**:  NLP"
      ],
      "metadata": {
        "id": "25LgsrVm_Yxw"
      }
    },
    {
      "cell_type": "code",
      "source": [
        "pip install morfessor polyglot pyICU pycld2 -U"
      ],
      "metadata": {
        "colab": {
          "base_uri": "https://localhost:8080/"
        },
        "id": "yGGI1GLn_TfT",
        "outputId": "7d376b64-288c-4aa3-fd6a-3d630c9d999f"
      },
      "execution_count": 39,
      "outputs": [
        {
          "output_type": "stream",
          "name": "stdout",
          "text": [
            "Requirement already satisfied: morfessor in /usr/local/lib/python3.10/dist-packages (2.0.6)\n",
            "Requirement already satisfied: polyglot in /usr/local/lib/python3.10/dist-packages (16.7.4)\n",
            "Requirement already satisfied: pyICU in /usr/local/lib/python3.10/dist-packages (2.13.1)\n",
            "Requirement already satisfied: pycld2 in /usr/local/lib/python3.10/dist-packages (0.41)\n"
          ]
        }
      ]
    },
    {
      "cell_type": "code",
      "source": [
        "%%bash\n",
        "polyglot download morph2.en morph2.mr"
      ],
      "metadata": {
        "colab": {
          "base_uri": "https://localhost:8080/"
        },
        "id": "dGke1bvn5BVA",
        "outputId": "51126083-dab1-4800-df39-b9059a8c87ac"
      },
      "execution_count": 2,
      "outputs": [
        {
          "output_type": "stream",
          "name": "stdout",
          "text": [
            "[polyglot_data] Downloading package morph2.en to\n",
            "[polyglot_data]     /root/polyglot_data...\n",
            "[polyglot_data] Downloading package morph2.mr to\n",
            "[polyglot_data]     /root/polyglot_data...\n"
          ]
        }
      ]
    },
    {
      "cell_type": "code",
      "source": [
        "from polyglot.downloader import downloader\n",
        "print(downloader.supported_languages_table('morph2'))"
      ],
      "metadata": {
        "colab": {
          "base_uri": "https://localhost:8080/"
        },
        "id": "lMyRPMD05DK2",
        "outputId": "8ad279fa-9aee-443c-960f-41a8ccc0cf61"
      },
      "execution_count": 3,
      "outputs": [
        {
          "output_type": "stream",
          "name": "stdout",
          "text": [
            "  1. Kapampangan                2. Italian                    3. Upper Sorbian            \n",
            "  4. Sakha                      5. Hindi                      6. French                   \n",
            "  7. Spanish; Castilian         8. Vietnamese                 9. Arabic                   \n",
            " 10. Macedonian                11. Pashto, Pushto            12. Bosnian-Croatian-Serbian \n",
            " 13. Egyptian Arabic           14. Norwegian Nynorsk         15. Sundanese                \n",
            " 16. Sicilian                  17. Azerbaijani               18. Bulgarian                \n",
            " 19. Yoruba                    20. Tajik                     21. Georgian                 \n",
            " 22. Tatar                     23. Galician                  24. Malagasy                 \n",
            " 25. Uighur, Uyghur            26. Amharic                   27. Venetian                 \n",
            " 28. Yiddish                   29. Norwegian                 30. Alemannic                \n",
            " 31. Estonian                  32. West Flemish              33. Divehi; Dhivehi; Mald... \n",
            " 34. Japanese                  35. Ilokano                   36. Haitian; Haitian Creole  \n",
            " 37. Belarusian                38. Greek, Modern             39. Ossetian, Ossetic        \n",
            " 40. Welsh                     41. Malayalam                 42. Albanian                 \n",
            " 43. Marathi (Marāṭhī)         44. Armenian                  45. Slovene                  \n",
            " 46. Korean                    47. Breton                    48. Irish                    \n",
            " 49. Luxembourgish, Letzeb...  50. Bengali                   51. Serbian                  \n",
            " 52. Fiji Hindi                53. Javanese                  54. Finnish                  \n",
            " 55. Gan Chinese               56. Kirghiz, Kyrgyz           57. Catalan; Valencian       \n",
            " 58. Quechua                   59. Croatian                  60. Dutch                    \n",
            " 61. Swedish                   62. Ido                       63. Tagalog                  \n",
            " 64. Sanskrit (Saṁskṛta)       65. Piedmontese language      66. Asturian                 \n",
            " 67. Danish                    68. Cebuano                   69. Western Frisian          \n",
            " 70. Kannada                   71. Scots                     72. Maltese                  \n",
            " 73. Swahili                   74. Limburgish, Limburgan...  75. Waray-Waray              \n",
            " 76. Lombard language          77. Uzbek                     78. Kurdish                  \n",
            " 79. Latvian                   80. Burmese                   81. Aragonese                \n",
            " 82. Volapük                   83. Northern Sami             84. Faroese                  \n",
            " 85. Kazakh                    86. Telugu                    87. Ukrainian                \n",
            " 88. Assamese                  89. Chuvash                   90. Silesian                 \n",
            " 91. Turkmen                   92. Romanian, Moldavian, ...  93. Persian                  \n",
            " 94. Tibetan Standard, Tib...  95. Latin                     96. Slovak                   \n",
            " 97. Sinhala, Sinhalese        98. Bavarian                  99. Icelandic                \n",
            "100. Mongolian                101. Walloon                  102. Portuguese               \n",
            "103. Urdu                     104. Gujarati                 105. Manx                     \n",
            "106. Tamil                    107. Khmer                    108. English                  \n",
            "109. Malay                    110. Chechen                  111. Bishnupriya Manipuri     \n",
            "112. Afrikaans                113. Basque                   114. Polish                   \n",
            "115. German                   116. Esperanto                117. Indonesian               \n",
            "118. Occitan                  119. Chinese                  120. Czech                    \n",
            "121. Hebrew (modern)          122. Romansh                  123. Lithuanian               \n",
            "124. Turkish                  125. Nepali                   126. Bosnian                  \n",
            "127. Interlingua              128. Zazaki                   129. Oriya                    \n",
            "130. Hungarian                131. Scottish Gaelic; Gaelic  132. Bashkir                  \n",
            "133. Thai                     134. Panjabi, Punjabi         135. Russian                  \n",
            "\n"
          ]
        }
      ]
    },
    {
      "cell_type": "code",
      "source": [
        "from nltk import pos_tag\n",
        "from nltk.tokenize import word_tokenize\n",
        "import nltk\n",
        "from nltk.corpus import stopwords\n",
        "\n",
        "nltk.download('punkt')\n",
        "nltk.download('averaged_perceptron_tagger')"
      ],
      "metadata": {
        "colab": {
          "base_uri": "https://localhost:8080/"
        },
        "id": "-rVZ8Z2M5E7d",
        "outputId": "cb4aa715-7c78-4a88-faa0-2e98e695c848"
      },
      "execution_count": 4,
      "outputs": [
        {
          "output_type": "stream",
          "name": "stderr",
          "text": [
            "[nltk_data] Downloading package punkt to /root/nltk_data...\n",
            "[nltk_data]   Unzipping tokenizers/punkt.zip.\n",
            "[nltk_data] Downloading package averaged_perceptron_tagger to\n",
            "[nltk_data]     /root/nltk_data...\n",
            "[nltk_data]   Unzipping taggers/averaged_perceptron_tagger.zip.\n"
          ]
        },
        {
          "output_type": "execute_result",
          "data": {
            "text/plain": [
              "True"
            ]
          },
          "metadata": {},
          "execution_count": 4
        }
      ]
    },
    {
      "cell_type": "code",
      "source": [
        "\n",
        "nasa = \"The National Aeronautics and Space Administration (NASA; /ˈnæsə/) is an independent agency of the U.S. federal government responsible for the civil space program, aeronautics research, and space research. Established in 1958, it succeeded the National Advisory Committee for Aeronautics (NACA) to give the U.S. space development effort a distinct civilian orientation, emphasizing peaceful applications in space science. It has since led most of America's space exploration programs, including Project Mercury, Project Gemini, the 1968–1972 Apollo Moon landing missions, the Skylab space station, and the Space Shuttle. Currently, NASA supports the International Space Station (ISS) along with the Commercial Crew Program, and oversees the development of the Orion spacecraft and the Space Launch System for the lunar Artemis program.\"\n"
      ],
      "metadata": {
        "id": "vap1zeZe6A6D"
      },
      "execution_count": 7,
      "outputs": []
    },
    {
      "cell_type": "markdown",
      "source": [
        "# **Apply PoS tagging on data**"
      ],
      "metadata": {
        "id": "2QZGIcdE5QNt"
      }
    },
    {
      "cell_type": "code",
      "source": [
        "nasa_tag = pos_tag(word_tokenize(nasa))\n",
        "nasa_tag"
      ],
      "metadata": {
        "colab": {
          "base_uri": "https://localhost:8080/"
        },
        "id": "4nJ26uIJ5MDL",
        "outputId": "580a4706-dec3-4e8b-c55b-30b5f480adec"
      },
      "execution_count": 8,
      "outputs": [
        {
          "output_type": "execute_result",
          "data": {
            "text/plain": [
              "[('The', 'DT'),\n",
              " ('National', 'NNP'),\n",
              " ('Aeronautics', 'NNP'),\n",
              " ('and', 'CC'),\n",
              " ('Space', 'NNP'),\n",
              " ('Administration', 'NNP'),\n",
              " ('(', '('),\n",
              " ('NASA', 'NNP'),\n",
              " (';', ':'),\n",
              " ('/ˈnæsə/', 'NNP'),\n",
              " (')', ')'),\n",
              " ('is', 'VBZ'),\n",
              " ('an', 'DT'),\n",
              " ('independent', 'JJ'),\n",
              " ('agency', 'NN'),\n",
              " ('of', 'IN'),\n",
              " ('the', 'DT'),\n",
              " ('U.S.', 'NNP'),\n",
              " ('federal', 'JJ'),\n",
              " ('government', 'NN'),\n",
              " ('responsible', 'JJ'),\n",
              " ('for', 'IN'),\n",
              " ('the', 'DT'),\n",
              " ('civil', 'JJ'),\n",
              " ('space', 'NN'),\n",
              " ('program', 'NN'),\n",
              " (',', ','),\n",
              " ('aeronautics', 'NNS'),\n",
              " ('research', 'NN'),\n",
              " (',', ','),\n",
              " ('and', 'CC'),\n",
              " ('space', 'NN'),\n",
              " ('research', 'NN'),\n",
              " ('.', '.'),\n",
              " ('Established', 'VBN'),\n",
              " ('in', 'IN'),\n",
              " ('1958', 'CD'),\n",
              " (',', ','),\n",
              " ('it', 'PRP'),\n",
              " ('succeeded', 'VBD'),\n",
              " ('the', 'DT'),\n",
              " ('National', 'NNP'),\n",
              " ('Advisory', 'NNP'),\n",
              " ('Committee', 'NNP'),\n",
              " ('for', 'IN'),\n",
              " ('Aeronautics', 'NNP'),\n",
              " ('(', '('),\n",
              " ('NACA', 'NNP'),\n",
              " (')', ')'),\n",
              " ('to', 'TO'),\n",
              " ('give', 'VB'),\n",
              " ('the', 'DT'),\n",
              " ('U.S.', 'NNP'),\n",
              " ('space', 'NN'),\n",
              " ('development', 'NN'),\n",
              " ('effort', 'NN'),\n",
              " ('a', 'DT'),\n",
              " ('distinct', 'JJ'),\n",
              " ('civilian', 'JJ'),\n",
              " ('orientation', 'NN'),\n",
              " (',', ','),\n",
              " ('emphasizing', 'VBG'),\n",
              " ('peaceful', 'JJ'),\n",
              " ('applications', 'NNS'),\n",
              " ('in', 'IN'),\n",
              " ('space', 'NN'),\n",
              " ('science', 'NN'),\n",
              " ('.', '.'),\n",
              " ('It', 'PRP'),\n",
              " ('has', 'VBZ'),\n",
              " ('since', 'IN'),\n",
              " ('led', 'VBN'),\n",
              " ('most', 'JJS'),\n",
              " ('of', 'IN'),\n",
              " ('America', 'NNP'),\n",
              " (\"'s\", 'POS'),\n",
              " ('space', 'NN'),\n",
              " ('exploration', 'NN'),\n",
              " ('programs', 'NNS'),\n",
              " (',', ','),\n",
              " ('including', 'VBG'),\n",
              " ('Project', 'NNP'),\n",
              " ('Mercury', 'NNP'),\n",
              " (',', ','),\n",
              " ('Project', 'NNP'),\n",
              " ('Gemini', 'NNP'),\n",
              " (',', ','),\n",
              " ('the', 'DT'),\n",
              " ('1968–1972', 'CD'),\n",
              " ('Apollo', 'NNP'),\n",
              " ('Moon', 'NNP'),\n",
              " ('landing', 'VBG'),\n",
              " ('missions', 'NNS'),\n",
              " (',', ','),\n",
              " ('the', 'DT'),\n",
              " ('Skylab', 'NNP'),\n",
              " ('space', 'NN'),\n",
              " ('station', 'NN'),\n",
              " (',', ','),\n",
              " ('and', 'CC'),\n",
              " ('the', 'DT'),\n",
              " ('Space', 'NNP'),\n",
              " ('Shuttle', 'NNP'),\n",
              " ('.', '.'),\n",
              " ('Currently', 'NNP'),\n",
              " (',', ','),\n",
              " ('NASA', 'NNP'),\n",
              " ('supports', 'VBZ'),\n",
              " ('the', 'DT'),\n",
              " ('International', 'NNP'),\n",
              " ('Space', 'NNP'),\n",
              " ('Station', 'NNP'),\n",
              " ('(', '('),\n",
              " ('ISS', 'NNP'),\n",
              " (')', ')'),\n",
              " ('along', 'IN'),\n",
              " ('with', 'IN'),\n",
              " ('the', 'DT'),\n",
              " ('Commercial', 'JJ'),\n",
              " ('Crew', 'NNP'),\n",
              " ('Program', 'NNP'),\n",
              " (',', ','),\n",
              " ('and', 'CC'),\n",
              " ('oversees', 'VBZ'),\n",
              " ('the', 'DT'),\n",
              " ('development', 'NN'),\n",
              " ('of', 'IN'),\n",
              " ('the', 'DT'),\n",
              " ('Orion', 'NNP'),\n",
              " ('spacecraft', 'NN'),\n",
              " ('and', 'CC'),\n",
              " ('the', 'DT'),\n",
              " ('Space', 'NNP'),\n",
              " ('Launch', 'NNP'),\n",
              " ('System', 'NNP'),\n",
              " ('for', 'IN'),\n",
              " ('the', 'DT'),\n",
              " ('lunar', 'JJ'),\n",
              " ('Artemis', 'NNP'),\n",
              " ('program', 'NN'),\n",
              " ('.', '.')]"
            ]
          },
          "metadata": {},
          "execution_count": 8
        }
      ]
    },
    {
      "cell_type": "markdown",
      "source": [
        "# **Remove Punctuation symbols:**"
      ],
      "metadata": {
        "id": "zX_zzC075bel"
      }
    },
    {
      "cell_type": "code",
      "source": [
        "new_nasa = ' '.join(word for word in nasa.split() if word.isalpha())\n",
        "\n",
        "print(new_nasa)"
      ],
      "metadata": {
        "colab": {
          "base_uri": "https://localhost:8080/"
        },
        "id": "Z5ZMJNH65YHt",
        "outputId": "fec0e71b-58c9-49d6-f7dc-d220bb3d85f8"
      },
      "execution_count": 9,
      "outputs": [
        {
          "output_type": "stream",
          "name": "stdout",
          "text": [
            "The National Aeronautics and Space Administration is an independent agency of the federal government responsible for the civil space aeronautics and space Established in it succeeded the National Advisory Committee for Aeronautics to give the space development effort a distinct civilian emphasizing peaceful applications in space It has since led most of space exploration including Project Project the Apollo Moon landing the Skylab space and the Space NASA supports the International Space Station along with the Commercial Crew and oversees the development of the Orion spacecraft and the Space Launch System for the lunar Artemis\n"
          ]
        }
      ]
    },
    {
      "cell_type": "markdown",
      "source": [
        "# Delete the stopwords:"
      ],
      "metadata": {
        "id": "DydCNzbE5mXV"
      }
    },
    {
      "cell_type": "code",
      "source": [
        "# stopwords present in the english lang:\n",
        "\n",
        "import nltk\n",
        "nltk.download('stopwords')\n",
        "swords = stopwords.words('english')\n",
        "\n",
        "# remove the stopwords:\n",
        "for words in word_tokenize(nasa):\n",
        "    if words not in swords:\n",
        "        print(words)"
      ],
      "metadata": {
        "colab": {
          "base_uri": "https://localhost:8080/"
        },
        "id": "SBJlzn6P5jlu",
        "outputId": "3857c30d-179a-4ed0-eece-192cc06b0e19"
      },
      "execution_count": 13,
      "outputs": [
        {
          "output_type": "stream",
          "name": "stdout",
          "text": [
            "The\n",
            "National\n",
            "Aeronautics\n",
            "Space\n",
            "Administration\n",
            "(\n",
            "NASA\n",
            ";\n",
            "/ˈnæsə/\n",
            ")\n",
            "independent\n",
            "agency\n",
            "U.S.\n",
            "federal\n",
            "government\n",
            "responsible\n",
            "civil\n",
            "space\n",
            "program\n",
            ",\n",
            "aeronautics\n",
            "research\n",
            ",\n",
            "space\n",
            "research\n",
            ".\n",
            "Established\n",
            "1958\n",
            ",\n",
            "succeeded\n",
            "National\n",
            "Advisory\n",
            "Committee\n",
            "Aeronautics\n",
            "(\n",
            "NACA\n",
            ")\n",
            "give\n",
            "U.S.\n",
            "space\n",
            "development\n",
            "effort\n",
            "distinct\n",
            "civilian\n",
            "orientation\n",
            ",\n",
            "emphasizing\n",
            "peaceful\n",
            "applications\n",
            "space\n",
            "science\n",
            ".\n",
            "It\n",
            "since\n",
            "led\n",
            "America\n",
            "'s\n",
            "space\n",
            "exploration\n",
            "programs\n",
            ",\n",
            "including\n",
            "Project\n",
            "Mercury\n",
            ",\n",
            "Project\n",
            "Gemini\n",
            ",\n",
            "1968–1972\n",
            "Apollo\n",
            "Moon\n",
            "landing\n",
            "missions\n",
            ",\n",
            "Skylab\n",
            "space\n",
            "station\n",
            ",\n",
            "Space\n",
            "Shuttle\n",
            ".\n",
            "Currently\n",
            ",\n",
            "NASA\n",
            "supports\n",
            "International\n",
            "Space\n",
            "Station\n",
            "(\n",
            "ISS\n",
            ")\n",
            "along\n",
            "Commercial\n",
            "Crew\n",
            "Program\n",
            ",\n",
            "oversees\n",
            "development\n",
            "Orion\n",
            "spacecraft\n",
            "Space\n",
            "Launch\n",
            "System\n",
            "lunar\n",
            "Artemis\n",
            "program\n",
            ".\n"
          ]
        },
        {
          "output_type": "stream",
          "name": "stderr",
          "text": [
            "[nltk_data] Downloading package stopwords to /root/nltk_data...\n",
            "[nltk_data]   Unzipping corpora/stopwords.zip.\n"
          ]
        }
      ]
    },
    {
      "cell_type": "markdown",
      "source": [
        "# Perform morphological analysis on all the nouns"
      ],
      "metadata": {
        "id": "V8vAq2UV6_UH"
      }
    },
    {
      "cell_type": "code",
      "source": [
        "for words in nasa_tag:\n",
        "\n",
        "    if words[1] == 'NN':\n",
        "\n",
        "        print(Word(words[0]).morphemes)"
      ],
      "metadata": {
        "colab": {
          "base_uri": "https://localhost:8080/"
        },
        "id": "DBTS8j83577i",
        "outputId": "10694e08-0488-4736-c5bc-56031648e569"
      },
      "execution_count": 24,
      "outputs": [
        {
          "output_type": "stream",
          "name": "stderr",
          "text": [
            "WARNING:polyglot.detect.base:Detector is not able to detect the language reliably.\n",
            "WARNING:polyglot.detect.base:Detector is not able to detect the language reliably.\n",
            "WARNING:polyglot.detect.base:Detector is not able to detect the language reliably.\n",
            "WARNING:polyglot.detect.base:Detector is not able to detect the language reliably.\n",
            "WARNING:polyglot.detect.base:Detector is not able to detect the language reliably.\n",
            "WARNING:polyglot.detect.base:Detector is not able to detect the language reliably.\n",
            "WARNING:polyglot.detect.base:Detector is not able to detect the language reliably.\n",
            "WARNING:polyglot.detect.base:Detector is not able to detect the language reliably.\n",
            "WARNING:polyglot.detect.base:Detector is not able to detect the language reliably.\n",
            "WARNING:polyglot.detect.base:Detector is not able to detect the language reliably.\n",
            "WARNING:polyglot.detect.base:Detector is not able to detect the language reliably.\n",
            "WARNING:polyglot.detect.base:Detector is not able to detect the language reliably.\n",
            "WARNING:polyglot.detect.base:Detector is not able to detect the language reliably.\n",
            "WARNING:polyglot.detect.base:Detector is not able to detect the language reliably.\n",
            "WARNING:polyglot.detect.base:Detector is not able to detect the language reliably.\n",
            "WARNING:polyglot.detect.base:Detector is not able to detect the language reliably.\n",
            "WARNING:polyglot.detect.base:Detector is not able to detect the language reliably.\n",
            "WARNING:polyglot.detect.base:Detector is not able to detect the language reliably.\n"
          ]
        },
        {
          "output_type": "stream",
          "name": "stdout",
          "text": [
            "['age', 'ncy']\n",
            "['government']\n",
            "['space']\n",
            "['program']\n",
            "['research']\n",
            "['space']\n",
            "['research']\n",
            "['space']\n",
            "['develop', 'ment']\n",
            "['ef', 'fort']\n",
            "['orient', 'ation']\n",
            "['space']\n",
            "['science']\n",
            "['space']\n",
            "['explor', 'ation']\n",
            "['space']\n",
            "['station']\n",
            "['develop', 'ment']\n",
            "['space', 'craft']\n",
            "['program']\n"
          ]
        }
      ]
    },
    {
      "cell_type": "markdown",
      "source": [
        "# Find top three words in the data:\n"
      ],
      "metadata": {
        "id": "Cu9JkNCx8lY_"
      }
    },
    {
      "cell_type": "code",
      "source": [
        "from collections import Counter\n",
        "\n",
        "# tokanize the data:\n",
        "tokens = word_tokenize(nasa)\n",
        "\n",
        "# count the each word:\n",
        "word_count = Counter(tokens)\n",
        "\n",
        "# print the top three words:\n",
        "print(word_count.most_common(3))"
      ],
      "metadata": {
        "colab": {
          "base_uri": "https://localhost:8080/"
        },
        "id": "pUaYTNYn7CO3",
        "outputId": "f6f8b249-cc05-4e16-ab6d-6bf690b23864"
      },
      "execution_count": 34,
      "outputs": [
        {
          "output_type": "stream",
          "name": "stdout",
          "text": [
            "[('the', 13), (',', 11), ('space', 6)]\n"
          ]
        }
      ]
    },
    {
      "cell_type": "markdown",
      "source": [
        "Q 2) -----------------------------------------\n",
        "\n",
        " Open the wikipedia page of pune.\n",
        "\n",
        " find the adjectives used in the text"
      ],
      "metadata": {
        "id": "kZ7bEhk-947M"
      }
    },
    {
      "cell_type": "code",
      "source": [
        "\n",
        "pune = \"Pune (/ˈpuːnə/ POO-nə, Marathi: [ˈpuɳe] ⓘ), previously spelled in English as Poona (the official name until 1978),[15][16] is a city in Maharashtra state in the Deccan plateau in Western India. It is the administrative headquarters of the Pune district, and of Pune division. According to the 2011 Census of India, Pune has 7.2 million residents in the metropolitan region, making it the eighth-most populous metropolitan area in India.[17] The city of Pune is part of Pune Metropolitan Region.[18] Pune is one of the largest IT hubs in India.[19][20] It is also one of the most important automobile and manufacturing hubs of India. Pune is often referred to as the 'Oxford of the East'because of its highly regarded educational institutions.[21][22][23] It has been ranked 'the most liveable city in India' several times.[24][25]\"\n"
      ],
      "metadata": {
        "id": "VjpSf-ep81F5"
      },
      "execution_count": 35,
      "outputs": []
    },
    {
      "cell_type": "code",
      "source": [
        "# apply word tokenize:\n",
        "\n",
        "pune_token = word_tokenize(pune)\n",
        "\n",
        "# apply pos tagging on it:\n",
        "\n",
        "pune_tag = pos_tag(pune_token)\n",
        "\n",
        "# Extract adjectives from it:\n",
        "\n",
        "adj_pune = []\n",
        "\n",
        "for words in pune_tag:\n",
        "    if words[1] == 'JJ':\n",
        "        adj_pune.append(words[0])\n",
        "\n",
        "print(adj_pune)\n",
        "\n"
      ],
      "metadata": {
        "colab": {
          "base_uri": "https://localhost:8080/"
        },
        "id": "xSQQYzy7-iVY",
        "outputId": "89e290cf-e1c2-4c89-e298-a9b96d06c9ce"
      },
      "execution_count": 38,
      "outputs": [
        {
          "output_type": "stream",
          "name": "stdout",
          "text": [
            "['/ˈpuːnə/', 'Western', 'administrative', 'metropolitan', 'eighth-most', 'populous', 'metropolitan', ']', 'important', 'regarded', 'educational', 'liveable', 'several']\n"
          ]
        }
      ]
    },
    {
      "cell_type": "code",
      "source": [],
      "metadata": {
        "id": "XYVWoaIX-2lm"
      },
      "execution_count": null,
      "outputs": []
    }
  ]
}