{
 "cells": [
  {
   "cell_type": "markdown",
   "id": "a9bb268b",
   "metadata": {},
   "source": [
    "# Assignment : 02\n",
    "\n",
    "Name: Snehal Awadan\n",
    "    \n",
    "PRN: 240340128033\n",
    "\n",
    "Module: CV"
   ]
  },
  {
   "cell_type": "markdown",
   "id": "718082e4",
   "metadata": {},
   "source": [
    "# Q.1) Apply following transformations on the image."
   ]
  },
  {
   "cell_type": "markdown",
   "id": "1b8381d7",
   "metadata": {},
   "source": [
    "## 1. Translate the image towards right by 400 and up by 150 pixels."
   ]
  },
  {
   "cell_type": "code",
   "execution_count": 3,
   "id": "0549c94c",
   "metadata": {},
   "outputs": [],
   "source": [
    "import cv2\n",
    "import numpy as np\n",
    "\n",
    "# load the image:\n",
    "img = cv2.imread('sachin.jpg')\n",
    "\n",
    "# define rows and cols:\n",
    "rows, cols = img.shape[:2]\n",
    "\n",
    "translation = np.float32([[1,0,100], [0,1,-150]])\n",
    "trans_img = cv2.warpAffine(img, translation,(cols, rows))\n"
   ]
  },
  {
   "cell_type": "code",
   "execution_count": null,
   "id": "8141a479",
   "metadata": {},
   "outputs": [],
   "source": [
    "# Display the image:\n",
    "\n",
    "cv2.imshow('the translated image: ',trans_img)\n",
    "cv2.imshow('original img', img)\n",
    "cv2.waitKey(0)\n",
    "cv2.destroyAllWindows()"
   ]
  },
  {
   "cell_type": "markdown",
   "id": "81f01ae8",
   "metadata": {},
   "source": [
    "## 2. Rotate the image 60 degrees anti clockwise."
   ]
  },
  {
   "cell_type": "code",
   "execution_count": 20,
   "id": "d8087f16",
   "metadata": {},
   "outputs": [],
   "source": [
    "#define the center point and rotation angle\n",
    "center =(img.shape[1]//2, img.shape[0]//2)\n",
    "\n",
    "angle = 60\n",
    "\n",
    "ratation_matrix = cv2.getRotationMatrix2D(center, angle, 1.0)\n",
    "rotateds_image = cv2.warpAffine(img, ratation_matrix, (img.shape[1], img.shape[0]))\n",
    "\n",
    "cv2.imshow('rotation img', rotated_image)\n",
    "cv2.waitKey(0)\n",
    "cv2.destroyAllWindows()"
   ]
  },
  {
   "cell_type": "markdown",
   "id": "9c2ae84c",
   "metadata": {},
   "source": [
    "## 3. Resize the image to 75% of original dimensions."
   ]
  },
  {
   "cell_type": "code",
   "execution_count": 4,
   "id": "55fda254",
   "metadata": {},
   "outputs": [],
   "source": [
    "resized_image = cv2.resize(img, (int(cols * 0.75), int(rows * 0.75)))\n",
    "\n",
    "# Display the image:\n",
    "\n",
    "cv2.imshow('the scaling image: ',resized_image)\n",
    "cv2.imshow('original img', img)\n",
    "cv2.waitKey(0)\n",
    "cv2.destroyAllWindows()"
   ]
  },
  {
   "cell_type": "markdown",
   "id": "d1fc0433",
   "metadata": {},
   "source": [
    "\n",
    "## 4. Flip the image horizontally, diagonally and vertically. Show all four images in the row."
   ]
  },
  {
   "cell_type": "code",
   "execution_count": 6,
   "id": "1e2832c4",
   "metadata": {},
   "outputs": [],
   "source": [
    "# Horizontal flip\n",
    "flipped_horizontally = cv2.flip(img, 1)  \n",
    "\n",
    "# Vertical flip\n",
    "flipped_vertically = cv2.flip(img, 0)    \n",
    "\n",
    "# Diagonal flip\n",
    "flipped_diagonally = cv2.flip(img, -1)   \n",
    "\n",
    "# Combined img:\n",
    "combined_flips = np.hstack((flipped_horizontally, flipped_vertically, flipped_diagonally))\n",
    "\n",
    "cv2.imshow('combined image: ',combined_flips)\n",
    "cv2.waitKey(0)\n",
    "cv2.destroyAllWindows()"
   ]
  },
  {
   "cell_type": "markdown",
   "id": "9089eb76",
   "metadata": {},
   "source": [
    "## 5. Crop the image at, 500,300 to 560, 400 and save in another file"
   ]
  },
  {
   "cell_type": "code",
   "execution_count": 7,
   "id": "0ff55b93",
   "metadata": {},
   "outputs": [
    {
     "data": {
      "text/plain": [
       "True"
      ]
     },
     "execution_count": 7,
     "metadata": {},
     "output_type": "execute_result"
    }
   ],
   "source": [
    "cropped_image = img[300:400, 500:560]\n",
    "\n",
    "cv2.imwrite('cropped_image.jpg', cropped_image)\n"
   ]
  },
  {
   "cell_type": "code",
   "execution_count": null,
   "id": "b8dc975d",
   "metadata": {},
   "outputs": [],
   "source": []
  }
 ],
 "metadata": {
  "kernelspec": {
   "display_name": "Python 3 (ipykernel)",
   "language": "python",
   "name": "python3"
  },
  "language_info": {
   "codemirror_mode": {
    "name": "ipython",
    "version": 3
   },
   "file_extension": ".py",
   "mimetype": "text/x-python",
   "name": "python",
   "nbconvert_exporter": "python",
   "pygments_lexer": "ipython3",
   "version": "3.11.7"
  }
 },
 "nbformat": 4,
 "nbformat_minor": 5
}
