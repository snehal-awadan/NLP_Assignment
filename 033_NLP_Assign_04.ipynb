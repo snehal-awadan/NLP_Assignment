{
 "cells": [
  {
   "cell_type": "markdown",
   "id": "16c21c25",
   "metadata": {},
   "source": [
    "# Assignment: 04\n",
    "\n",
    "Name : Snehal Awadan\n",
    "    \n",
    "PRN: 240340128033\n",
    "    \n",
    "Module: NLP"
   ]
  },
  {
   "cell_type": "raw",
   "id": "173d8514",
   "metadata": {},
   "source": [
    "Open the wikipedia page : https://en.wikipedia.org/wiki/Saturn"
   ]
  },
  {
   "cell_type": "code",
   "execution_count": 1,
   "id": "b4d4efdc",
   "metadata": {
    "scrolled": true
   },
   "outputs": [
    {
     "data": {
      "text/plain": [
       "'Saturns interior is thought to be composed of a rocky core, surrounded by a deep layer of metallic hydrogen, an intermediate layer of liquid hydrogen and liquid helium, and finally, a gaseous outer layer. Saturn has a pale yellow hue due to ammonia crystals in its upper atmosphere. An electrical current within the metallic hydrogen layer is thought to give rise to Saturns planetary magnetic field, which is weaker than Earths, but which has a magnetic moment 580 times that of Earth due to Saturns larger size'"
      ]
     },
     "execution_count": 1,
     "metadata": {},
     "output_type": "execute_result"
    }
   ],
   "source": [
    "saturn='Saturns interior is thought to be composed of a rocky core, surrounded by a deep layer of metallic hydrogen, an intermediate layer of liquid hydrogen and liquid helium, and finally, a gaseous outer layer. Saturn has a pale yellow hue due to ammonia crystals in its upper atmosphere. An electrical current within the metallic hydrogen layer is thought to give rise to Saturns planetary magnetic field, which is weaker than Earths, but which has a magnetic moment 580 times that of Earth due to Saturns larger size'\n",
    "saturn"
   ]
  },
  {
   "cell_type": "markdown",
   "id": "1b272187",
   "metadata": {},
   "source": [
    "# 1. Scrap the web and find top 10 nouns from the page"
   ]
  },
  {
   "cell_type": "code",
   "execution_count": 2,
   "id": "fd792c56",
   "metadata": {},
   "outputs": [
    {
     "name": "stderr",
     "output_type": "stream",
     "text": [
      "[nltk_data] Downloading package punkt to\n",
      "[nltk_data]     C:\\Users\\Rohit\\AppData\\Roaming\\nltk_data...\n",
      "[nltk_data]   Package punkt is already up-to-date!\n",
      "[nltk_data] Downloading package averaged_perceptron_tagger to\n",
      "[nltk_data]     C:\\Users\\Rohit\\AppData\\Roaming\\nltk_data...\n",
      "[nltk_data]   Package averaged_perceptron_tagger is already up-to-\n",
      "[nltk_data]       date!\n",
      "[nltk_data] Downloading package stopwords to\n",
      "[nltk_data]     C:\\Users\\Rohit\\AppData\\Roaming\\nltk_data...\n",
      "[nltk_data]   Package stopwords is already up-to-date!\n"
     ]
    }
   ],
   "source": [
    "import nltk\n",
    "nltk.download('punkt')\n",
    "nltk.download('averaged_perceptron_tagger')\n",
    "nltk.download('stopwords')\n",
    "from nltk import word_tokenize, pos_tag\n",
    "from nltk.corpus import stopwords"
   ]
  },
  {
   "cell_type": "code",
   "execution_count": 3,
   "id": "ee4f75f5",
   "metadata": {},
   "outputs": [
    {
     "data": {
      "text/plain": [
       "'Saturns interior is thought to be composed of a rocky core, surrounded by a deep layer of metallic hydrogen, an intermediate layer of liquid hydrogen and liquid helium, and finally, a gaseous outer layer. Saturn has a pale yellow hue due to ammonia crystals in its upper atmosphere. An electrical current within the metallic hydrogen layer is thought to give rise to Saturns planetary magnetic field, which is weaker than Earths, but which has a magnetic moment 580 times that of Earth due to Saturns larger size'"
      ]
     },
     "execution_count": 3,
     "metadata": {},
     "output_type": "execute_result"
    }
   ],
   "source": [
    "# apply tokenize:\n",
    "text = word_tokenize(saturn)\n",
    "saturn"
   ]
  },
  {
   "cell_type": "code",
   "execution_count": 4,
   "id": "a3798786",
   "metadata": {},
   "outputs": [
    {
     "data": {
      "text/plain": [
       "['Saturns',\n",
       " 'interior',\n",
       " 'thought',\n",
       " 'composed',\n",
       " 'rocky',\n",
       " 'core',\n",
       " ',',\n",
       " 'surrounded',\n",
       " 'deep',\n",
       " 'layer',\n",
       " 'metallic',\n",
       " 'hydrogen',\n",
       " ',',\n",
       " 'intermediate',\n",
       " 'layer',\n",
       " 'liquid',\n",
       " 'hydrogen',\n",
       " 'liquid',\n",
       " 'helium',\n",
       " ',',\n",
       " 'finally',\n",
       " ',',\n",
       " 'gaseous',\n",
       " 'outer',\n",
       " 'layer',\n",
       " '.',\n",
       " 'Saturn',\n",
       " 'pale',\n",
       " 'yellow',\n",
       " 'hue',\n",
       " 'due',\n",
       " 'ammonia',\n",
       " 'crystals',\n",
       " 'upper',\n",
       " 'atmosphere',\n",
       " '.',\n",
       " 'electrical',\n",
       " 'current',\n",
       " 'within',\n",
       " 'metallic',\n",
       " 'hydrogen',\n",
       " 'layer',\n",
       " 'thought',\n",
       " 'give',\n",
       " 'rise',\n",
       " 'Saturns',\n",
       " 'planetary',\n",
       " 'magnetic',\n",
       " 'field',\n",
       " ',',\n",
       " 'weaker',\n",
       " 'Earths',\n",
       " ',',\n",
       " 'magnetic',\n",
       " 'moment',\n",
       " '580',\n",
       " 'times',\n",
       " 'Earth',\n",
       " 'due',\n",
       " 'Saturns',\n",
       " 'larger',\n",
       " 'size']"
      ]
     },
     "execution_count": 4,
     "metadata": {},
     "output_type": "execute_result"
    }
   ],
   "source": [
    "# Remove stopwords:\n",
    "stopwords = set(stopwords.words('english'))\n",
    "filtered_text = [word for word in text if word.lower() not in stopwords]\n",
    "filtered_text"
   ]
  },
  {
   "cell_type": "code",
   "execution_count": 5,
   "id": "dbb2a5fe",
   "metadata": {},
   "outputs": [
    {
     "data": {
      "text/plain": [
       "['interior',\n",
       " 'thought',\n",
       " 'rocky',\n",
       " 'core',\n",
       " 'deep',\n",
       " 'layer',\n",
       " 'metallic',\n",
       " 'hydrogen',\n",
       " 'intermediate',\n",
       " 'layer']"
      ]
     },
     "execution_count": 5,
     "metadata": {},
     "output_type": "execute_result"
    }
   ],
   "source": [
    "# extract the top 10 nouns:\n",
    "\n",
    "nouns = [word for word in filtered_text if nltk.pos_tag([word])[0][1] == \"NN\"]\n",
    "nouns[:10]"
   ]
  },
  {
   "cell_type": "markdown",
   "id": "b04de950",
   "metadata": {},
   "source": [
    "# 2. Print all the unique verbs in their root form."
   ]
  },
  {
   "cell_type": "code",
   "execution_count": 6,
   "id": "90f690e7",
   "metadata": {},
   "outputs": [
    {
     "name": "stderr",
     "output_type": "stream",
     "text": [
      "[nltk_data] Downloading package wordnet to\n",
      "[nltk_data]     C:\\Users\\Rohit\\AppData\\Roaming\\nltk_data...\n",
      "[nltk_data]   Package wordnet is already up-to-date!\n"
     ]
    },
    {
     "data": {
      "text/plain": [
       "True"
      ]
     },
     "execution_count": 6,
     "metadata": {},
     "output_type": "execute_result"
    }
   ],
   "source": [
    "verbs = [word for word in filtered_text if nltk.pos_tag([word])[0][1].startswith('VB')]\n",
    "\n",
    "nltk.download(\"wordnet\")\n"
   ]
  },
  {
   "cell_type": "code",
   "execution_count": 7,
   "id": "33f743d7",
   "metadata": {},
   "outputs": [
    {
     "data": {
      "text/plain": [
       "{'composed', 'give', 'surrounded'}"
      ]
     },
     "execution_count": 7,
     "metadata": {},
     "output_type": "execute_result"
    }
   ],
   "source": [
    "# lemmatization:\n",
    "lemmatizer = nltk.WordNetLemmatizer()\n",
    "root_verb = [lemmatizer.lemmatize(verb) for verb in verbs]\n",
    "\n",
    "# unique words:\n",
    "unique_verb = set(root_verb)\n",
    "unique_verb"
   ]
  },
  {
   "cell_type": "markdown",
   "id": "441c993f",
   "metadata": {},
   "source": [
    "# 3. Extract all the (DT JJ NN) phrases from the article."
   ]
  },
  {
   "cell_type": "code",
   "execution_count": 8,
   "id": "95828452",
   "metadata": {},
   "outputs": [
    {
     "data": {
      "text/plain": [
       "['a rocky core',\n",
       " 'a deep layer',\n",
       " 'an intermediate layer',\n",
       " 'a gaseous outer',\n",
       " 'the metallic hydrogen',\n",
       " 'a magnetic moment']"
      ]
     },
     "execution_count": 8,
     "metadata": {},
     "output_type": "execute_result"
    }
   ],
   "source": [
    "tagged_text = pos_tag(word_tokenize(saturn))\n",
    "\n",
    "phrases = []\n",
    "\n",
    "for i in range(len(tagged_text)):\n",
    "  if tagged_text[i][1] == 'DT' and tagged_text[i+1][1] == 'JJ' and tagged_text[i+2][1] == 'NN':\n",
    "    phrases.append(' '.join(word for word, pos in tagged_text[i:i+3]))\n",
    "phrases"
   ]
  },
  {
   "cell_type": "markdown",
   "id": "b3e4066d",
   "metadata": {},
   "source": [
    "# 4. Summarize the text using TextRank Algorithm "
   ]
  },
  {
   "cell_type": "code",
   "execution_count": 9,
   "id": "871d2aa6",
   "metadata": {},
   "outputs": [
    {
     "name": "stdout",
     "output_type": "stream",
     "text": [
      "Requirement already satisfied: sumy in c:\\users\\rohit\\anaconda3\\lib\\site-packages (0.11.0)\n",
      "Requirement already satisfied: transformers in c:\\users\\rohit\\anaconda3\\lib\\site-packages (4.41.2)\n",
      "Requirement already satisfied: docopt<0.7,>=0.6.1 in c:\\users\\rohit\\anaconda3\\lib\\site-packages (from sumy) (0.6.2)\n",
      "Requirement already satisfied: breadability>=0.1.20 in c:\\users\\rohit\\anaconda3\\lib\\site-packages (from sumy) (0.1.20)\n",
      "Requirement already satisfied: requests>=2.7.0 in c:\\users\\rohit\\anaconda3\\lib\\site-packages (from sumy) (2.31.0)\n",
      "Requirement already satisfied: pycountry>=18.2.23 in c:\\users\\rohit\\anaconda3\\lib\\site-packages (from sumy) (24.6.1)\n",
      "Requirement already satisfied: nltk>=3.0.2 in c:\\users\\rohit\\anaconda3\\lib\\site-packages (from sumy) (3.8.1)\n",
      "Requirement already satisfied: filelock in c:\\users\\rohit\\anaconda3\\lib\\site-packages (from transformers) (3.13.1)\n",
      "Requirement already satisfied: huggingface-hub<1.0,>=0.23.0 in c:\\users\\rohit\\anaconda3\\lib\\site-packages (from transformers) (0.23.3)\n",
      "Requirement already satisfied: numpy>=1.17 in c:\\users\\rohit\\anaconda3\\lib\\site-packages (from transformers) (1.26.4)\n",
      "Requirement already satisfied: packaging>=20.0 in c:\\users\\rohit\\anaconda3\\lib\\site-packages (from transformers) (23.1)\n",
      "Requirement already satisfied: pyyaml>=5.1 in c:\\users\\rohit\\anaconda3\\lib\\site-packages (from transformers) (6.0.1)\n",
      "Requirement already satisfied: regex!=2019.12.17 in c:\\users\\rohit\\anaconda3\\lib\\site-packages (from transformers) (2023.10.3)\n",
      "Requirement already satisfied: tokenizers<0.20,>=0.19 in c:\\users\\rohit\\anaconda3\\lib\\site-packages (from transformers) (0.19.1)\n",
      "Requirement already satisfied: safetensors>=0.4.1 in c:\\users\\rohit\\anaconda3\\lib\\site-packages (from transformers) (0.4.3)\n",
      "Requirement already satisfied: tqdm>=4.27 in c:\\users\\rohit\\anaconda3\\lib\\site-packages (from transformers) (4.65.0)\n",
      "Requirement already satisfied: chardet in c:\\users\\rohit\\anaconda3\\lib\\site-packages (from breadability>=0.1.20->sumy) (4.0.0)\n",
      "Requirement already satisfied: lxml>=2.0 in c:\\users\\rohit\\anaconda3\\lib\\site-packages (from breadability>=0.1.20->sumy) (4.9.3)\n",
      "Requirement already satisfied: fsspec>=2023.5.0 in c:\\users\\rohit\\anaconda3\\lib\\site-packages (from huggingface-hub<1.0,>=0.23.0->transformers) (2023.10.0)\n",
      "Requirement already satisfied: typing-extensions>=3.7.4.3 in c:\\users\\rohit\\anaconda3\\lib\\site-packages (from huggingface-hub<1.0,>=0.23.0->transformers) (4.9.0)\n",
      "Requirement already satisfied: click in c:\\users\\rohit\\anaconda3\\lib\\site-packages (from nltk>=3.0.2->sumy) (8.1.7)\n",
      "Requirement already satisfied: joblib in c:\\users\\rohit\\anaconda3\\lib\\site-packages (from nltk>=3.0.2->sumy) (1.2.0)\n",
      "Requirement already satisfied: charset-normalizer<4,>=2 in c:\\users\\rohit\\anaconda3\\lib\\site-packages (from requests>=2.7.0->sumy) (2.0.4)\n",
      "Requirement already satisfied: idna<4,>=2.5 in c:\\users\\rohit\\anaconda3\\lib\\site-packages (from requests>=2.7.0->sumy) (3.4)\n",
      "Requirement already satisfied: urllib3<3,>=1.21.1 in c:\\users\\rohit\\anaconda3\\lib\\site-packages (from requests>=2.7.0->sumy) (2.0.7)\n",
      "Requirement already satisfied: certifi>=2017.4.17 in c:\\users\\rohit\\anaconda3\\lib\\site-packages (from requests>=2.7.0->sumy) (2024.2.2)\n",
      "Requirement already satisfied: colorama in c:\\users\\rohit\\anaconda3\\lib\\site-packages (from tqdm>=4.27->transformers) (0.4.6)\n"
     ]
    }
   ],
   "source": [
    "from sumy.summarizers.text_rank import TextRankSummarizer\n",
    "from sumy.parsers.plaintext import PlaintextParser\n",
    "from sumy.nlp.tokenizers import Tokenizer\n",
    "from nltk.tokenize import sent_tokenize\n",
    "\n",
    "!pip install sumy transformers"
   ]
  },
  {
   "cell_type": "code",
   "execution_count": 11,
   "id": "00d2992c",
   "metadata": {},
   "outputs": [],
   "source": [
    "# initialize the parser:\n",
    "\n",
    "my_parser = PlaintextParser.from_string(saturn, Tokenizer(\"english\"))\n",
    "\n",
    "# creater obj:\n",
    "text_rank_summarizer = TextRankSummarizer()"
   ]
  },
  {
   "cell_type": "code",
   "execution_count": 12,
   "id": "a070b013",
   "metadata": {},
   "outputs": [
    {
     "name": "stdout",
     "output_type": "stream",
     "text": [
      "Saturns interior is thought to be composed of a rocky core, surrounded by a deep layer of metallic hydrogen, an intermediate layer of liquid hydrogen and liquid helium, and finally, a gaseous outer layer. \n",
      "\n",
      "Saturn has a pale yellow hue due to ammonia crystals in its upper atmosphere. \n",
      "\n",
      "An electrical current within the metallic hydrogen layer is thought to give rise to Saturns planetary magnetic field, which is weaker than Earths, but which has a magnetic moment 580 times that of Earth due to Saturns larger size \n",
      "\n"
     ]
    }
   ],
   "source": [
    "summary = text_rank_summarizer(my_parser.document, sentences_count=5)\n",
    "\n",
    "for sent in summary:\n",
    "    print(sent, '\\n')"
   ]
  },
  {
   "cell_type": "markdown",
   "id": "74092748",
   "metadata": {},
   "source": [
    "# 5. Summarize the text using extractive summarization"
   ]
  },
  {
   "cell_type": "code",
   "execution_count": 15,
   "id": "6d0d2fed",
   "metadata": {},
   "outputs": [
    {
     "name": "stderr",
     "output_type": "stream",
     "text": [
      "No model was supplied, defaulted to sshleifer/distilbart-cnn-12-6 and revision a4f8f3e (https://huggingface.co/sshleifer/distilbart-cnn-12-6).\n",
      "Using a pipeline without specifying a model name and revision in production is not recommended.\n",
      "Your max_length is set to 50, but your input_length is only 4. Since this is a summarization task, where outputs shorter than the input are typically wanted, you might consider decreasing max_length manually, e.g. summarizer('...', max_length=2)\n",
      "Your max_length is set to 50, but your input_length is only 3. Since this is a summarization task, where outputs shorter than the input are typically wanted, you might consider decreasing max_length manually, e.g. summarizer('...', max_length=1)\n",
      "Your max_length is set to 50, but your input_length is only 3. Since this is a summarization task, where outputs shorter than the input are typically wanted, you might consider decreasing max_length manually, e.g. summarizer('...', max_length=1)\n",
      "Your max_length is set to 50, but your input_length is only 3. Since this is a summarization task, where outputs shorter than the input are typically wanted, you might consider decreasing max_length manually, e.g. summarizer('...', max_length=1)\n",
      "Your max_length is set to 50, but your input_length is only 3. Since this is a summarization task, where outputs shorter than the input are typically wanted, you might consider decreasing max_length manually, e.g. summarizer('...', max_length=1)\n",
      "Your max_length is set to 50, but your input_length is only 3. Since this is a summarization task, where outputs shorter than the input are typically wanted, you might consider decreasing max_length manually, e.g. summarizer('...', max_length=1)\n",
      "Your max_length is set to 50, but your input_length is only 3. Since this is a summarization task, where outputs shorter than the input are typically wanted, you might consider decreasing max_length manually, e.g. summarizer('...', max_length=1)\n",
      "Your max_length is set to 50, but your input_length is only 3. Since this is a summarization task, where outputs shorter than the input are typically wanted, you might consider decreasing max_length manually, e.g. summarizer('...', max_length=1)\n",
      "Your max_length is set to 50, but your input_length is only 3. Since this is a summarization task, where outputs shorter than the input are typically wanted, you might consider decreasing max_length manually, e.g. summarizer('...', max_length=1)\n",
      "Your max_length is set to 50, but your input_length is only 3. Since this is a summarization task, where outputs shorter than the input are typically wanted, you might consider decreasing max_length manually, e.g. summarizer('...', max_length=1)\n",
      "Your max_length is set to 50, but your input_length is only 3. Since this is a summarization task, where outputs shorter than the input are typically wanted, you might consider decreasing max_length manually, e.g. summarizer('...', max_length=1)\n",
      "Your max_length is set to 50, but your input_length is only 3. Since this is a summarization task, where outputs shorter than the input are typically wanted, you might consider decreasing max_length manually, e.g. summarizer('...', max_length=1)\n",
      "Your max_length is set to 50, but your input_length is only 3. Since this is a summarization task, where outputs shorter than the input are typically wanted, you might consider decreasing max_length manually, e.g. summarizer('...', max_length=1)\n",
      "Your max_length is set to 50, but your input_length is only 3. Since this is a summarization task, where outputs shorter than the input are typically wanted, you might consider decreasing max_length manually, e.g. summarizer('...', max_length=1)\n",
      "Your max_length is set to 50, but your input_length is only 3. Since this is a summarization task, where outputs shorter than the input are typically wanted, you might consider decreasing max_length manually, e.g. summarizer('...', max_length=1)\n",
      "Your max_length is set to 50, but your input_length is only 3. Since this is a summarization task, where outputs shorter than the input are typically wanted, you might consider decreasing max_length manually, e.g. summarizer('...', max_length=1)\n",
      "Your max_length is set to 50, but your input_length is only 3. Since this is a summarization task, where outputs shorter than the input are typically wanted, you might consider decreasing max_length manually, e.g. summarizer('...', max_length=1)\n",
      "Your max_length is set to 50, but your input_length is only 3. Since this is a summarization task, where outputs shorter than the input are typically wanted, you might consider decreasing max_length manually, e.g. summarizer('...', max_length=1)\n",
      "Your max_length is set to 50, but your input_length is only 3. Since this is a summarization task, where outputs shorter than the input are typically wanted, you might consider decreasing max_length manually, e.g. summarizer('...', max_length=1)\n",
      "Your max_length is set to 50, but your input_length is only 3. Since this is a summarization task, where outputs shorter than the input are typically wanted, you might consider decreasing max_length manually, e.g. summarizer('...', max_length=1)\n",
      "Your max_length is set to 50, but your input_length is only 3. Since this is a summarization task, where outputs shorter than the input are typically wanted, you might consider decreasing max_length manually, e.g. summarizer('...', max_length=1)\n",
      "Your max_length is set to 50, but your input_length is only 3. Since this is a summarization task, where outputs shorter than the input are typically wanted, you might consider decreasing max_length manually, e.g. summarizer('...', max_length=1)\n",
      "Your max_length is set to 50, but your input_length is only 3. Since this is a summarization task, where outputs shorter than the input are typically wanted, you might consider decreasing max_length manually, e.g. summarizer('...', max_length=1)\n",
      "Your max_length is set to 50, but your input_length is only 3. Since this is a summarization task, where outputs shorter than the input are typically wanted, you might consider decreasing max_length manually, e.g. summarizer('...', max_length=1)\n",
      "Your max_length is set to 50, but your input_length is only 3. Since this is a summarization task, where outputs shorter than the input are typically wanted, you might consider decreasing max_length manually, e.g. summarizer('...', max_length=1)\n",
      "Your max_length is set to 50, but your input_length is only 3. Since this is a summarization task, where outputs shorter than the input are typically wanted, you might consider decreasing max_length manually, e.g. summarizer('...', max_length=1)\n",
      "Your max_length is set to 50, but your input_length is only 3. Since this is a summarization task, where outputs shorter than the input are typically wanted, you might consider decreasing max_length manually, e.g. summarizer('...', max_length=1)\n",
      "Your max_length is set to 50, but your input_length is only 3. Since this is a summarization task, where outputs shorter than the input are typically wanted, you might consider decreasing max_length manually, e.g. summarizer('...', max_length=1)\n",
      "Your max_length is set to 50, but your input_length is only 3. Since this is a summarization task, where outputs shorter than the input are typically wanted, you might consider decreasing max_length manually, e.g. summarizer('...', max_length=1)\n",
      "Your max_length is set to 50, but your input_length is only 3. Since this is a summarization task, where outputs shorter than the input are typically wanted, you might consider decreasing max_length manually, e.g. summarizer('...', max_length=1)\n",
      "Your max_length is set to 50, but your input_length is only 3. Since this is a summarization task, where outputs shorter than the input are typically wanted, you might consider decreasing max_length manually, e.g. summarizer('...', max_length=1)\n",
      "Your max_length is set to 50, but your input_length is only 3. Since this is a summarization task, where outputs shorter than the input are typically wanted, you might consider decreasing max_length manually, e.g. summarizer('...', max_length=1)\n",
      "Your max_length is set to 50, but your input_length is only 3. Since this is a summarization task, where outputs shorter than the input are typically wanted, you might consider decreasing max_length manually, e.g. summarizer('...', max_length=1)\n",
      "Your max_length is set to 50, but your input_length is only 3. Since this is a summarization task, where outputs shorter than the input are typically wanted, you might consider decreasing max_length manually, e.g. summarizer('...', max_length=1)\n",
      "Your max_length is set to 50, but your input_length is only 3. Since this is a summarization task, where outputs shorter than the input are typically wanted, you might consider decreasing max_length manually, e.g. summarizer('...', max_length=1)\n",
      "Your max_length is set to 50, but your input_length is only 5. Since this is a summarization task, where outputs shorter than the input are typically wanted, you might consider decreasing max_length manually, e.g. summarizer('...', max_length=2)\n",
      "Your max_length is set to 50, but your input_length is only 3. Since this is a summarization task, where outputs shorter than the input are typically wanted, you might consider decreasing max_length manually, e.g. summarizer('...', max_length=1)\n",
      "Your max_length is set to 50, but your input_length is only 3. Since this is a summarization task, where outputs shorter than the input are typically wanted, you might consider decreasing max_length manually, e.g. summarizer('...', max_length=1)\n",
      "Your max_length is set to 50, but your input_length is only 3. Since this is a summarization task, where outputs shorter than the input are typically wanted, you might consider decreasing max_length manually, e.g. summarizer('...', max_length=1)\n",
      "Your max_length is set to 50, but your input_length is only 3. Since this is a summarization task, where outputs shorter than the input are typically wanted, you might consider decreasing max_length manually, e.g. summarizer('...', max_length=1)\n",
      "Your max_length is set to 50, but your input_length is only 3. Since this is a summarization task, where outputs shorter than the input are typically wanted, you might consider decreasing max_length manually, e.g. summarizer('...', max_length=1)\n",
      "Your max_length is set to 50, but your input_length is only 3. Since this is a summarization task, where outputs shorter than the input are typically wanted, you might consider decreasing max_length manually, e.g. summarizer('...', max_length=1)\n",
      "Your max_length is set to 50, but your input_length is only 3. Since this is a summarization task, where outputs shorter than the input are typically wanted, you might consider decreasing max_length manually, e.g. summarizer('...', max_length=1)\n",
      "Your max_length is set to 50, but your input_length is only 3. Since this is a summarization task, where outputs shorter than the input are typically wanted, you might consider decreasing max_length manually, e.g. summarizer('...', max_length=1)\n",
      "Your max_length is set to 50, but your input_length is only 3. Since this is a summarization task, where outputs shorter than the input are typically wanted, you might consider decreasing max_length manually, e.g. summarizer('...', max_length=1)\n",
      "Your max_length is set to 50, but your input_length is only 3. Since this is a summarization task, where outputs shorter than the input are typically wanted, you might consider decreasing max_length manually, e.g. summarizer('...', max_length=1)\n",
      "Your max_length is set to 50, but your input_length is only 3. Since this is a summarization task, where outputs shorter than the input are typically wanted, you might consider decreasing max_length manually, e.g. summarizer('...', max_length=1)\n",
      "Your max_length is set to 50, but your input_length is only 3. Since this is a summarization task, where outputs shorter than the input are typically wanted, you might consider decreasing max_length manually, e.g. summarizer('...', max_length=1)\n",
      "Your max_length is set to 50, but your input_length is only 3. Since this is a summarization task, where outputs shorter than the input are typically wanted, you might consider decreasing max_length manually, e.g. summarizer('...', max_length=1)\n",
      "Your max_length is set to 50, but your input_length is only 3. Since this is a summarization task, where outputs shorter than the input are typically wanted, you might consider decreasing max_length manually, e.g. summarizer('...', max_length=1)\n",
      "Your max_length is set to 50, but your input_length is only 3. Since this is a summarization task, where outputs shorter than the input are typically wanted, you might consider decreasing max_length manually, e.g. summarizer('...', max_length=1)\n",
      "Your max_length is set to 50, but your input_length is only 3. Since this is a summarization task, where outputs shorter than the input are typically wanted, you might consider decreasing max_length manually, e.g. summarizer('...', max_length=1)\n",
      "Your max_length is set to 50, but your input_length is only 3. Since this is a summarization task, where outputs shorter than the input are typically wanted, you might consider decreasing max_length manually, e.g. summarizer('...', max_length=1)\n",
      "Your max_length is set to 50, but your input_length is only 3. Since this is a summarization task, where outputs shorter than the input are typically wanted, you might consider decreasing max_length manually, e.g. summarizer('...', max_length=1)\n",
      "Your max_length is set to 50, but your input_length is only 3. Since this is a summarization task, where outputs shorter than the input are typically wanted, you might consider decreasing max_length manually, e.g. summarizer('...', max_length=1)\n",
      "Your max_length is set to 50, but your input_length is only 3. Since this is a summarization task, where outputs shorter than the input are typically wanted, you might consider decreasing max_length manually, e.g. summarizer('...', max_length=1)\n",
      "Your max_length is set to 50, but your input_length is only 3. Since this is a summarization task, where outputs shorter than the input are typically wanted, you might consider decreasing max_length manually, e.g. summarizer('...', max_length=1)\n",
      "Your max_length is set to 50, but your input_length is only 3. Since this is a summarization task, where outputs shorter than the input are typically wanted, you might consider decreasing max_length manually, e.g. summarizer('...', max_length=1)\n",
      "Your max_length is set to 50, but your input_length is only 3. Since this is a summarization task, where outputs shorter than the input are typically wanted, you might consider decreasing max_length manually, e.g. summarizer('...', max_length=1)\n",
      "Your max_length is set to 50, but your input_length is only 3. Since this is a summarization task, where outputs shorter than the input are typically wanted, you might consider decreasing max_length manually, e.g. summarizer('...', max_length=1)\n",
      "Your max_length is set to 50, but your input_length is only 3. Since this is a summarization task, where outputs shorter than the input are typically wanted, you might consider decreasing max_length manually, e.g. summarizer('...', max_length=1)\n",
      "Your max_length is set to 50, but your input_length is only 3. Since this is a summarization task, where outputs shorter than the input are typically wanted, you might consider decreasing max_length manually, e.g. summarizer('...', max_length=1)\n",
      "Your max_length is set to 50, but your input_length is only 3. Since this is a summarization task, where outputs shorter than the input are typically wanted, you might consider decreasing max_length manually, e.g. summarizer('...', max_length=1)\n",
      "Your max_length is set to 50, but your input_length is only 3. Since this is a summarization task, where outputs shorter than the input are typically wanted, you might consider decreasing max_length manually, e.g. summarizer('...', max_length=1)\n",
      "Your max_length is set to 50, but your input_length is only 3. Since this is a summarization task, where outputs shorter than the input are typically wanted, you might consider decreasing max_length manually, e.g. summarizer('...', max_length=1)\n",
      "Your max_length is set to 50, but your input_length is only 3. Since this is a summarization task, where outputs shorter than the input are typically wanted, you might consider decreasing max_length manually, e.g. summarizer('...', max_length=1)\n",
      "Your max_length is set to 50, but your input_length is only 3. Since this is a summarization task, where outputs shorter than the input are typically wanted, you might consider decreasing max_length manually, e.g. summarizer('...', max_length=1)\n",
      "Your max_length is set to 50, but your input_length is only 3. Since this is a summarization task, where outputs shorter than the input are typically wanted, you might consider decreasing max_length manually, e.g. summarizer('...', max_length=1)\n",
      "Your max_length is set to 50, but your input_length is only 4. Since this is a summarization task, where outputs shorter than the input are typically wanted, you might consider decreasing max_length manually, e.g. summarizer('...', max_length=2)\n",
      "Your max_length is set to 50, but your input_length is only 3. Since this is a summarization task, where outputs shorter than the input are typically wanted, you might consider decreasing max_length manually, e.g. summarizer('...', max_length=1)\n",
      "Your max_length is set to 50, but your input_length is only 3. Since this is a summarization task, where outputs shorter than the input are typically wanted, you might consider decreasing max_length manually, e.g. summarizer('...', max_length=1)\n",
      "Your max_length is set to 50, but your input_length is only 3. Since this is a summarization task, where outputs shorter than the input are typically wanted, you might consider decreasing max_length manually, e.g. summarizer('...', max_length=1)\n",
      "Your max_length is set to 50, but your input_length is only 3. Since this is a summarization task, where outputs shorter than the input are typically wanted, you might consider decreasing max_length manually, e.g. summarizer('...', max_length=1)\n",
      "Your max_length is set to 50, but your input_length is only 3. Since this is a summarization task, where outputs shorter than the input are typically wanted, you might consider decreasing max_length manually, e.g. summarizer('...', max_length=1)\n",
      "Your max_length is set to 50, but your input_length is only 3. Since this is a summarization task, where outputs shorter than the input are typically wanted, you might consider decreasing max_length manually, e.g. summarizer('...', max_length=1)\n",
      "Your max_length is set to 50, but your input_length is only 3. Since this is a summarization task, where outputs shorter than the input are typically wanted, you might consider decreasing max_length manually, e.g. summarizer('...', max_length=1)\n",
      "Your max_length is set to 50, but your input_length is only 3. Since this is a summarization task, where outputs shorter than the input are typically wanted, you might consider decreasing max_length manually, e.g. summarizer('...', max_length=1)\n",
      "Your max_length is set to 50, but your input_length is only 4. Since this is a summarization task, where outputs shorter than the input are typically wanted, you might consider decreasing max_length manually, e.g. summarizer('...', max_length=2)\n",
      "Your max_length is set to 50, but your input_length is only 3. Since this is a summarization task, where outputs shorter than the input are typically wanted, you might consider decreasing max_length manually, e.g. summarizer('...', max_length=1)\n",
      "Your max_length is set to 50, but your input_length is only 3. Since this is a summarization task, where outputs shorter than the input are typically wanted, you might consider decreasing max_length manually, e.g. summarizer('...', max_length=1)\n",
      "Your max_length is set to 50, but your input_length is only 3. Since this is a summarization task, where outputs shorter than the input are typically wanted, you might consider decreasing max_length manually, e.g. summarizer('...', max_length=1)\n",
      "Your max_length is set to 50, but your input_length is only 3. Since this is a summarization task, where outputs shorter than the input are typically wanted, you might consider decreasing max_length manually, e.g. summarizer('...', max_length=1)\n",
      "Your max_length is set to 50, but your input_length is only 3. Since this is a summarization task, where outputs shorter than the input are typically wanted, you might consider decreasing max_length manually, e.g. summarizer('...', max_length=1)\n",
      "Your max_length is set to 50, but your input_length is only 3. Since this is a summarization task, where outputs shorter than the input are typically wanted, you might consider decreasing max_length manually, e.g. summarizer('...', max_length=1)\n",
      "Your max_length is set to 50, but your input_length is only 3. Since this is a summarization task, where outputs shorter than the input are typically wanted, you might consider decreasing max_length manually, e.g. summarizer('...', max_length=1)\n",
      "Your max_length is set to 50, but your input_length is only 3. Since this is a summarization task, where outputs shorter than the input are typically wanted, you might consider decreasing max_length manually, e.g. summarizer('...', max_length=1)\n",
      "Your max_length is set to 50, but your input_length is only 3. Since this is a summarization task, where outputs shorter than the input are typically wanted, you might consider decreasing max_length manually, e.g. summarizer('...', max_length=1)\n",
      "Your max_length is set to 50, but your input_length is only 3. Since this is a summarization task, where outputs shorter than the input are typically wanted, you might consider decreasing max_length manually, e.g. summarizer('...', max_length=1)\n",
      "Your max_length is set to 50, but your input_length is only 3. Since this is a summarization task, where outputs shorter than the input are typically wanted, you might consider decreasing max_length manually, e.g. summarizer('...', max_length=1)\n",
      "Your max_length is set to 50, but your input_length is only 3. Since this is a summarization task, where outputs shorter than the input are typically wanted, you might consider decreasing max_length manually, e.g. summarizer('...', max_length=1)\n",
      "Your max_length is set to 50, but your input_length is only 3. Since this is a summarization task, where outputs shorter than the input are typically wanted, you might consider decreasing max_length manually, e.g. summarizer('...', max_length=1)\n",
      "Your max_length is set to 50, but your input_length is only 3. Since this is a summarization task, where outputs shorter than the input are typically wanted, you might consider decreasing max_length manually, e.g. summarizer('...', max_length=1)\n",
      "Your max_length is set to 50, but your input_length is only 4. Since this is a summarization task, where outputs shorter than the input are typically wanted, you might consider decreasing max_length manually, e.g. summarizer('...', max_length=2)\n",
      "Your max_length is set to 50, but your input_length is only 3. Since this is a summarization task, where outputs shorter than the input are typically wanted, you might consider decreasing max_length manually, e.g. summarizer('...', max_length=1)\n",
      "Your max_length is set to 50, but your input_length is only 3. Since this is a summarization task, where outputs shorter than the input are typically wanted, you might consider decreasing max_length manually, e.g. summarizer('...', max_length=1)\n"
     ]
    },
    {
     "name": "stdout",
     "output_type": "stream",
     "text": [
      "[{'summary_text': ' Saturns are the largest Saturns in the world . Saturns were the first Saturns to appear in the U.S. Saturns .'}, {'summary_text': ' Interior interior interior interior . Interior interior . interior design . Interior design. interior design. Interior design . interior interior design features .'}, {'summary_text': \" is the world's first major city in the U.S. state of origin . The city of New York City is located in New York, New York . It is the largest city in America and has a history of urban warfare .\"}, {'summary_text': \" thought thought thought of the world's first female president . Thought of the first lady in the U.S. thought of being a woman in the first place. thought .\"}, {'summary_text': ' CNN.com will feature iReporter photos in a weekly Travel Snapshots gallery . Please submit a photo of your favorite destinations in the gallery for a new gallery of snapshots . Visit http://www.dailymailonline.com/Travel'}, {'summary_text': \" CNN.com will feature iReporter photos in a weekly Travel Snapshots gallery . Please submit your best shots for next week's gallery of iReporters.com photos of your favorite destinations. Please submit a new gallery of snapshots of\"}, {'summary_text': \" CNN.com will feature iReporter photos in a weekly Travel Snapshots gallery . Please submit your best shots for next week's gallery of snapshots . Visit CNN iReport.com/Travel next Friday for a new gallery of shots .\"}, {'summary_text': \" CNN.com will feature iReporter photos in a weekly Travel Snapshots gallery . Please submit your best shots for next week's gallery of iReporters.com/Travel next Wednesday for a new gallery of snapshots . Visit CNN.\"}, {'summary_text': ' a. small group of people in the U.S. have been involved in the military for more than a decade in the past .'}, {'summary_text': ' CNN.com will feature iReporter photos in a weekly Travel Snapshots gallery . Please submit your best shots of CNN Travel next week for next week . Visit CNN iReport.com/Travel next Wednesday for a new gallery of snapshots'}, {'summary_text': ' core core core of core of the core of American democracy . core core . core of democracy. core . Core . core .'}, {'summary_text': \" CNN.com will feature iReporter photos in a weekly Travel Snapshots gallery . Please submit your best shots for next week's gallery of snapshots of life in the U.S. Please submit a photo of your favorite spots in the\"}, {'summary_text': ' CNN.com will feature iReporter photos in a weekly Travel Snapshots gallery . Please submit your best shots of CNN Travel next week for next week . Visit CNN iReport.com/Travel next Wednesday for a new gallery of snapshots'}, {'summary_text': ' by John Sutter . by . . by Jean Sutter. by . Sutter, Sutter and his family . The family is a well-wishers in the world .'}, {'summary_text': ' a. small group of people in the U.S. have been involved in the military for more than a decade in the past .'}, {'summary_text': ' \"Deep in deep deep deep wells deep in the heart of the nation,\" says CNN iReporter . CNN.com will feature a weekly Travel Snapshots gallery .'}, {'summary_text': ' Layer layer layer layer layers layer layer on layer layer . layer layer is layer layer of layers of layers . layer layers are layer layers on layer layers of layer layers, layer layers and layer layers . layers layer layers add layer layer to layer'}, {'summary_text': \" CNN.com will feature iReporter photos in a weekly Travel Snapshots gallery . Please submit your best shots for next week's gallery of iReporters.com/Travel next Wednesday for a new gallery of snapshots . Visit CNN.\"}, {'summary_text': \" Metallic City of Gold is the world's largest city of silver and gold . The city is known for its reputation as a symbol of strength and strength . It is also known for the strength and resilience of the community .\"}, {'summary_text': ' CNN.com will feature iReporter photos in a weekly Travel Snapshots gallery . Please submit your best shots of CNN Travel next week for a new gallery of snapshots . Visit CNN iReport.com/Travel next Wednesday for a gallery'}, {'summary_text': \" CNN.com will feature iReporter photos in a weekly Travel Snapshots gallery . Please submit your best shots for next week's gallery of snapshots of life in the U.S. Please submit a photo of your favorite spots in the\"}, {'summary_text': ' An in-depth look at the history of the U.S. House of Representatives in Washington, D.C. and beyond .'}, {'summary_text': ' Intermediate intermediate intermediate intermediate stage intermediate intermediate is intermediate stage . Intermediate stage intermediate stages intermediate stages are intermediate stage stages . Intermediate stages stage intermediate stage stage stages stage stages are final stages of intermediate stages .'}, {'summary_text': ' Layer layer layer layer layers layer layer on layer layer . layer layer is layer layer of layers of layers . layer layers are layer layers on layer layers of layer layers, layer layers and layer layers . layers layer layers add layer layer to layer'}, {'summary_text': \" CNN.com will feature iReporter photos in a weekly Travel Snapshots gallery . Please submit your best shots for next week's gallery of iReporters.com/Travel next Wednesday for a new gallery of snapshots . Visit CNN.\"}, {'summary_text': ' Liquid liquid liquid liquid is liquidated in liquid form . The liquid liquid has been used in more than 1,000 gallons of liquid .'}, {'summary_text': ' CNN.com will feature iReporter photos in a weekly Travel Snapshots gallery . Please submit your best shots of CNN Travel next week for a new gallery of snapshots . Visit CNN iReport.com/Travel next Wednesday for a gallery'}, {'summary_text': \" CNN.com will feature iReporter photos in a weekly Travel Snapshots gallery . Please submit your best shots for next week's gallery of iReporters.com/Travel next Friday . Visit www.TravelNext Friday for a new\"}, {'summary_text': ' Liquid liquid liquid liquid is liquidated in liquid form . The liquid liquid has been used in more than 1,000 gallons of liquid .'}, {'summary_text': ' helium helium helium, helium and other helium-filled helium . The helium is a key ingredient in helium-freezing industry .'}, {'summary_text': \" CNN.com will feature iReporter photos in a weekly Travel Snapshots gallery . Please submit your best shots for next week's gallery of snapshots of life in the U.S. Please submit a photo of your favorite spots in the\"}, {'summary_text': \" CNN.com will feature iReporter photos in a weekly Travel Snapshots gallery . Please submit your best shots for next week's gallery of iReporters.com/Travel next Friday . Visit www.TravelNext Friday for a new\"}, {'summary_text': \" CNN.com will feature iReporter photos in a weekly Travel Snapshots gallery . Please submit your best shots for next week's gallery of snapshots of your favorite destinations . Submit your best photos of CNN iReport . Submit photos of your\"}, {'summary_text': \" CNN.com will feature iReporter photos in a weekly Travel Snapshots gallery . Please submit your best shots for next week's gallery of snapshots of life in the U.S. Please submit a photo of your favorite spots in the\"}, {'summary_text': ' a. small group of people in the U.S. have been involved in the military for more than a decade in the past .'}, {'summary_text': ' \"Gaseous gaseous\" is a type of chemical reaction that can be triggered by gasses . Gaseous gas is a form of reaction to a chemical reaction . The reaction to this type of reaction is thought to be'}, {'summary_text': \" CNN.com will feature iReporter photos in a weekly Travel Snapshots gallery . Please submit your best shots for next week's gallery of iReporters . Visit CNN iReport.com/Travel next Wednesday for a new gallery of\"}, {'summary_text': ' Layer layer layer layer layers layer layer on layer layer . layer layer is layer layer of layers of layers . layer layers are layer layers on layer layers of layer layers, layer layers and layer layers . layers layer layers add layer layer to layer'}, {'summary_text': ' CNN.com will feature iReporter photos in a weekly Travel Snapshots gallery . Please submit your best shots of life in the gallery for next week . Visit CNN iReport.com/Travel next Friday for a new gallery of snapshots'}, {'summary_text': ' Saturn Saturn is the planet of Saturn Saturn . Saturn was born on Saturn 7 years ago . Saturn is one of the most powerful mammals in the world .'}, {'summary_text': \" CNN.com will feature iReporter photos in a weekly Travel Snapshots gallery . Please submit your best shots for next week's gallery of snapshots of places you've been in the gallery . Visit CNN iReport.com/Travel next\"}, {'summary_text': ' a. small group of people in the U.S. have been involved in the military for more than a decade in the past .'}, {'summary_text': \" CNN.com will feature iReporter photos in a weekly Travel Snapshots gallery . Please submit your best shots for next week's gallery of iReporters' top 10 best shots of the day . Visit CNN iReport.com/\"}, {'summary_text': ' yellow yellow is yellow for yellow . Yellow is the color of yellow in yellow . yellow is the colour of yellow .'}, {'summary_text': \" CNN.com will feature iReporter photos in a weekly Travel Snapshots gallery . Please submit your best shots for next week's gallery of iReporters' top 10 most recent destinations . Visit CNN iReport.com/Travel next\"}, {'summary_text': ' Due to be released from prison in prison next month . Due to arrive in prison for the first time in a month .'}, {'summary_text': ' CNN.com will feature iReporter photos in a weekly Travel Snapshots gallery . Please submit a photo of your favorite destinations in the gallery for a new gallery of snapshots . Visit http://www.dailymailonline.com/Travel'}, {'summary_text': ' ammonia ammonia ammonia is used to treat ammonia in ammonia-based products . The ammonia is found in the United States. ammonia is a potent form of formaldehyde .'}, {'summary_text': \" crystals are crystals of crystals found in crystals around the world . Crystals are believed to be the world's most valuable plant life .\"}, {'summary_text': ' in the U.S. in the United States. in a new series of documentaries, iReporters.com will feature iReporter photos in a weekly Travel Snapshots gallery . Visit CNN.com/Travel next Friday for a'}, {'summary_text': ' CNN.com will feature iReporter photos in a weekly Travel Snapshots gallery . Please submit your best shots of CNN Travel next week for a new gallery of snapshots . Visit CNN iReport.com/Travel next Wednesday for a gallery'}, {'summary_text': ' The upper reaches of the U.S. upper class have been in decline for a decade . The upper class has been in a steady decline in recent years .'}, {'summary_text': ' atmosphere atmosphere is atmosphere of atmosphere . atmosphere. atmosphere . Atmosphere . atmosphere . moods of tension high in the air .'}, {'summary_text': ' CNN.com will feature iReporter photos in a weekly Travel Snapshots gallery . Please submit your best shots of life in the gallery for next week . Visit CNN iReport.com/Travel next Friday for a new gallery of snapshots'}, {'summary_text': \" CNN.com will feature iReporter photos in a weekly Travel Snapshots gallery . Please submit your best shots for next week's gallery of snapshots of the world's most beautiful landscapes . Visit CNN iReport.com/Travel next Friday\"}, {'summary_text': ' electrical appliances can be used in electrical appliances and appliances . Electrical appliances can also be used to transform electrical appliances into electrical appliances .'}, {'summary_text': \" CNN.com will feature iReporter photos in a weekly Travel Snapshots gallery . Please submit your best shots for next week's gallery of snapshots of life in the U.S. next week . Submit your best photos of your favorite\"}, {'summary_text': \" CNN.com will feature iReporter photos in a weekly Travel Snapshots gallery . Please submit your best shots for next week's gallery of iReporters . Visit CNN iReport.com/Travel next Friday for a new gallery of\"}, {'summary_text': ' CNN.com will feature iReporter photos in a weekly Travel Snapshots gallery . Please submit your best shots and videos of your favorite travel destinations in the U.S. Please submit a new gallery of snapshots of the world to see'}, {'summary_text': \" Metallic City of Gold is the world's largest city of silver and gold . The city is known for its reputation as a symbol of strength and strength . It is also known for the strength and resilience of the community .\"}, {'summary_text': ' CNN.com will feature iReporter photos in a weekly Travel Snapshots gallery . Please submit your best shots of CNN Travel next week for a new gallery of snapshots . Visit CNN iReport.com/Travel next Wednesday for a gallery'}, {'summary_text': ' Layer layer layer layer layers layer layer on layer layer . layer layer is layer layer of layers of layers . layer layers are layer layers on layer layers of layer layers, layer layers and layer layers . layers layer layers add layer layer to layer'}, {'summary_text': \" is the world's first major city in the U.S. state of origin . The city of New York City is located in New York, New York . It is the largest city in America and has a history of urban warfare .\"}, {'summary_text': \" thought thought thought of the world's first female president . Thought of the first lady in the U.S. thought of being a woman in the first place. thought .\"}, {'summary_text': ' CNN.com will feature iReporter photos in a weekly Travel Snapshots gallery . Please submit a photo of your favorite destinations in the gallery for a new gallery of snapshots . Visit http://www.dailymailonline.com/Travel'}, {'summary_text': ' Give us your stories to share with us at CNN iReport . Share your photos with us on Facebook and Twitter . Visit CNN.com/Travel next Thursday for a new gallery of photos .'}, {'summary_text': \" U.S. President Barack Obama's first term came to term after a series of scandals . Obama has been criticized for his handling of the economy in the wake of the 2008-11 election .\"}, {'summary_text': ' CNN.com will feature iReporter photos in a weekly Travel Snapshots gallery . Please submit a photo of your favorite destinations in the gallery for a new gallery of snapshots . Visit http://www.dailymailonline.com/Travel'}, {'summary_text': ' Saturns are the largest Saturns in the world . Saturns were the first Saturns to appear in the U.S. Saturns .'}, {'summary_text': \" CNN.com will feature iReporter photos in a weekly Travel Snapshots gallery . Please submit your best shots for next week's gallery of iReporters . Visit CNN iReport.com/Travel next Friday for a new gallery of\"}, {'summary_text': ' CNN.com will feature iReporter photos in a weekly Travel Snapshots gallery . Please submit your best shots of CNN Travel next week for a new gallery of snapshots . Visit CNN iReport.com/Travel next Wednesday for a gallery'}, {'summary_text': ' The U.S. field field is considered a national sport field in the United States. Field is considered one of the best fields in the world .'}, {'summary_text': \" CNN.com will feature iReporter photos in a weekly Travel Snapshots gallery . Please submit your best shots for next week's gallery of snapshots of life in the U.S. Please submit a photo of your favorite spots in the\"}, {'summary_text': ' CNN.com will feature iReporter photos in a weekly Travel Snapshots gallery . Please submit your best shots of the week to CNN iReport.com . Visit http://www.dailymailonline.com/Travel next Friday for'}, {'summary_text': \" is the world's first major city in the U.S. state of origin . The city of New York City is located in New York, New York . It is the largest city in America and has a history of urban warfare .\"}, {'summary_text': \" U.S. economy has been on the decline for more than a decade . President Barack Obama has been criticized for his policies on foreign policy . Obama's policies have been criticized by some for their lack of transparency .\"}, {'summary_text': ' CNN.com will feature iReporter photos in a weekly Travel Snapshots gallery . Please submit your best shots of CNN Travel next week for a new gallery of snapshots . Visit CNNimages.com/Travel next Wednesday for a gallery of'}, {'summary_text': ' Earths Earths. Earths . Earths earths . The Earths of the Earth . Earth .'}, {'summary_text': \" CNN.com will feature iReporter photos in a weekly Travel Snapshots gallery . Please submit your best shots for next week's gallery of snapshots of life in the U.S. Please submit a photo of your favorite spots in the\"}, {'summary_text': \" CNN.com will feature iReporter photos in a weekly Travel Snapshots gallery . Please submit your best shots for next week's gallery of snapshots . Visit CNN iReport.com/Travel next Friday for a new gallery of shots .\"}, {'summary_text': ' CNN.com will feature iReporter photos in a weekly Travel Snapshots gallery . Please submit your best shots of the week to CNN iReport.com . Visit http://www.dailymailonline.com/Travel next Friday for'}, {'summary_text': \" CNN.com will feature iReporter photos in a weekly Travel Snapshots gallery . Please submit your best shots for next week's gallery of snapshots of places you've been in the gallery . Visit CNN iReport.com/Travel next\"}, {'summary_text': ' a. small group of people in the U.S. have been involved in the military for more than a decade in the past .'}, {'summary_text': ' CNN.com will feature iReporter photos in a weekly Travel Snapshots gallery . Please submit your best shots of CNN Travel next week for a new gallery of snapshots . Visit CNN iReport.com/Travel next Wednesday for a gallery'}, {'summary_text': ' CNN.com will feature iReporter photos in a weekly Travel Snapshots gallery . Please submit your best shots of the moment for next week . Visit CNN iReport.com/Travel next Friday for a new gallery of snapshots .'}, {'summary_text': \" CNN.com will feature iReporter photos in a weekly Travel Snapshots gallery . Please submit your best shots of the day for next week's gallery . Submit photos of your favorite destinations in the gallery of iReporters . Visit CNN\"}, {'summary_text': ' times times are up . times . times are down . times of the year. times . Times are down to the times of year .'}, {'summary_text': ' CNN.com will feature iReporter photos in a weekly Travel Snapshots gallery . Please submit your best shots for next week’s gallery of snapshots of life in the U.S. that capture the moment . Visit CNN.'}, {'summary_text': \" CNN.com will feature iReporter photos in a weekly Travel Snapshots gallery . Please submit your best shots for next week's gallery of iReporters.com/Travel next Wednesday for a new gallery of snapshots . Visit CNN.\"}, {'summary_text': \" Earth Earth is the world's smallest planet . Earth was created by humans . Earth is one of the largest continents in the world . Earth's largest cities are the cities of Earth Earth .\"}, {'summary_text': ' Due to be released from prison in prison next month . Due to arrive in prison for the first time in a month .'}, {'summary_text': ' CNN.com will feature iReporter photos in a weekly Travel Snapshots gallery . Please submit a photo of your favorite destinations in the gallery for a new gallery of snapshots . Visit http://www.dailymailonline.com/Travel'}, {'summary_text': ' Saturns are the largest Saturns in the world . Saturns were the first Saturns to appear in the U.S. Saturns .'}, {'summary_text': \" CNN.com will feature iReporter photos in a weekly Travel Snapshots gallery . Please submit your best shots for next week's gallery of iReporters . Visit CNN iReport.com/Travel next Wednesday for a new gallery of\"}, {'summary_text': \" CNN.com will feature iReporter photos in a weekly Travel Snapshots gallery . Please submit your best shots for next week's gallery of snapshots . Submit photos of your favorite photos of the week's featured events in the gallery . Visit\"}]\n"
     ]
    }
   ],
   "source": [
    "from transformers import pipeline\n",
    "\n",
    "# Initialize the summarizer\n",
    "summarizer = pipeline(\"summarization\")\n",
    "\n",
    "output = summarizer(text, max_length=50, min_length=20)\n",
    "\n",
    "print(output)\n"
   ]
  },
  {
   "cell_type": "code",
   "execution_count": null,
   "id": "0dba7b43",
   "metadata": {},
   "outputs": [],
   "source": []
  }
 ],
 "metadata": {
  "kernelspec": {
   "display_name": "Python 3 (ipykernel)",
   "language": "python",
   "name": "python3"
  },
  "language_info": {
   "codemirror_mode": {
    "name": "ipython",
    "version": 3
   },
   "file_extension": ".py",
   "mimetype": "text/x-python",
   "name": "python",
   "nbconvert_exporter": "python",
   "pygments_lexer": "ipython3",
   "version": "3.11.7"
  }
 },
 "nbformat": 4,
 "nbformat_minor": 5
}
