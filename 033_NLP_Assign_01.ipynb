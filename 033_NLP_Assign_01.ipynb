{
 "cells": [
  {
   "cell_type": "raw",
   "id": "9ce47bc8",
   "metadata": {},
   "source": [
    "Name: Snehal Awadan\n",
    "\n",
    "PRN: 240340128033\n",
    "\n",
    "Assignment : 01"
   ]
  },
  {
   "cell_type": "markdown",
   "id": "632f174f",
   "metadata": {},
   "source": [
    "# Q.1)"
   ]
  },
  {
   "cell_type": "code",
   "execution_count": 1,
   "id": "47eb996f",
   "metadata": {},
   "outputs": [],
   "source": [
    "sent = 'They told that their ages are 25 27 and 29 respectively.'"
   ]
  },
  {
   "cell_type": "markdown",
   "id": "c50afaae",
   "metadata": {},
   "source": [
    "# Find the average of the ages:\n"
   ]
  },
  {
   "cell_type": "code",
   "execution_count": 2,
   "id": "af9f2475",
   "metadata": {},
   "outputs": [
    {
     "name": "stdout",
     "output_type": "stream",
     "text": [
      "the average of the given ages: \n"
     ]
    },
    {
     "data": {
      "text/plain": [
       "27.0"
      ]
     },
     "execution_count": 2,
     "metadata": {},
     "output_type": "execute_result"
    }
   ],
   "source": [
    "ages = []\n",
    "\n",
    "# split the sentence:\n",
    "for word in sent.split():\n",
    "    \n",
    "    # check word is digit\n",
    "    if word.isdigit():\n",
    "        \n",
    "        # if it is digit then append \n",
    "        ages.append(int(word))\n",
    "        \n",
    "print('the average of the given ages: ')\n",
    "sum(ages)/len(ages)"
   ]
  },
  {
   "cell_type": "markdown",
   "id": "980205e6",
   "metadata": {},
   "source": [
    "# Count total words startwith 't' or'T'"
   ]
  },
  {
   "cell_type": "code",
   "execution_count": 3,
   "id": "22b07576",
   "metadata": {},
   "outputs": [
    {
     "name": "stdout",
     "output_type": "stream",
     "text": [
      "4\n"
     ]
    }
   ],
   "source": [
    "\n",
    "count = 0\n",
    "\n",
    "for word in sent.split():\n",
    "   \n",
    "    if word.startswith('T') or word.startswith('t'):\n",
    "        \n",
    "        count = count+1\n",
    "        \n",
    "print(count)\n"
   ]
  },
  {
   "cell_type": "markdown",
   "id": "db1d962c",
   "metadata": {},
   "source": [
    "# Count total punctuation symbols"
   ]
  },
  {
   "cell_type": "code",
   "execution_count": 4,
   "id": "99ae8b35",
   "metadata": {},
   "outputs": [
    {
     "data": {
      "text/plain": [
       "1"
      ]
     },
     "execution_count": 4,
     "metadata": {},
     "output_type": "execute_result"
    }
   ],
   "source": [
    "count_pun = 0\n",
    "\n",
    "for word in sent.split():\n",
    "    if not word.isalnum():\n",
    "        count_pun = count_pun + 1\n",
    "count_pun"
   ]
  },
  {
   "cell_type": "markdown",
   "id": "16193f05",
   "metadata": {},
   "source": [
    "# Print the words in capital letter which endswith 'd'"
   ]
  },
  {
   "cell_type": "code",
   "execution_count": 5,
   "id": "ed4c10ad",
   "metadata": {},
   "outputs": [
    {
     "name": "stdout",
     "output_type": "stream",
     "text": [
      "['TOLD', 'AND']\n"
     ]
    }
   ],
   "source": [
    "end_d = []\n",
    "\n",
    "for word in sent.split():\n",
    "    \n",
    "    if word.endswith('d'):\n",
    "        \n",
    "        end_d.append(word.upper())\n",
    "        \n",
    "print(end_d)"
   ]
  },
  {
   "cell_type": "markdown",
   "id": "ace2fe5b",
   "metadata": {},
   "source": [
    "# Merge all words and print (no punctuation)"
   ]
  },
  {
   "cell_type": "code",
   "execution_count": 6,
   "id": "766e315d",
   "metadata": {},
   "outputs": [
    {
     "name": "stdout",
     "output_type": "stream",
     "text": [
      "They\n",
      "told\n",
      "that\n",
      "their\n",
      "ages\n",
      "are\n",
      "25\n",
      "27\n",
      "and\n",
      "29\n"
     ]
    }
   ],
   "source": [
    "\n",
    "for words in sent.split():\n",
    "    \n",
    "    if words.isalnum():\n",
    "        print(words)\n",
    "   "
   ]
  },
  {
   "cell_type": "code",
   "execution_count": 7,
   "id": "2176b283",
   "metadata": {},
   "outputs": [
    {
     "name": "stdout",
     "output_type": "stream",
     "text": [
      "Theytoldthattheiragesareand\n"
     ]
    }
   ],
   "source": [
    "# Remove punctuation and merge words\n",
    "\n",
    "merged_words = ''.join(word for word in sent.split() if word.isalpha())\n",
    "\n",
    "print(merged_words)"
   ]
  },
  {
   "cell_type": "code",
   "execution_count": 8,
   "id": "ca357f7a",
   "metadata": {},
   "outputs": [],
   "source": [
    "#############################################################################"
   ]
  },
  {
   "cell_type": "markdown",
   "id": "e1c87633",
   "metadata": {},
   "source": [
    "# Q.2)"
   ]
  },
  {
   "cell_type": "markdown",
   "id": "c5a062ae",
   "metadata": {},
   "source": [
    "open the wikipedia page of Indian flag and perform following analysis:"
   ]
  },
  {
   "cell_type": "code",
   "execution_count": 9,
   "id": "482f675c",
   "metadata": {},
   "outputs": [],
   "source": [
    "\n",
    "para = 'The national flag of India, colloquially called Tiraṅgā (the tricolour), is a horizontal rectangular tricolour flag, the colours being of India saffron, white and India green; with the Ashoka Chakra, a 24-spoke wheel, in navy blue at its centre.[1][2] It was adopted in its present form during a meeting of the Constituent Assembly held on 22 July 1947, and it became the official flag of the Union of India on 15 August 1947. The flag was subsequently retained as that of the Republic of India. In India, the term \"tricolour\" almost always refers to the Indian national flag.'\n"
   ]
  },
  {
   "cell_type": "markdown",
   "id": "8add061d",
   "metadata": {},
   "source": [
    "# Count the number of words:"
   ]
  },
  {
   "cell_type": "code",
   "execution_count": 10,
   "id": "c4dd009c",
   "metadata": {},
   "outputs": [
    {
     "name": "stdout",
     "output_type": "stream",
     "text": [
      "the total words present in the given para is: \n"
     ]
    },
    {
     "data": {
      "text/plain": [
       "98"
      ]
     },
     "execution_count": 10,
     "metadata": {},
     "output_type": "execute_result"
    }
   ],
   "source": [
    "from nltk.tokenize import word_tokenize\n",
    "\n",
    "count = 0\n",
    "for words in para.split():\n",
    "    word_tokenize(para)\n",
    "    count = count + 1\n",
    "    \n",
    "print('the total words present in the given para is: ')\n",
    "    \n",
    "count"
   ]
  },
  {
   "cell_type": "markdown",
   "id": "f1c8a5f9",
   "metadata": {},
   "source": [
    "# Count % of the punctuation mark"
   ]
  },
  {
   "cell_type": "code",
   "execution_count": 11,
   "id": "cfb2d4f8",
   "metadata": {},
   "outputs": [
    {
     "name": "stdout",
     "output_type": "stream",
     "text": [
      "Count % of the punctuation mark: \n"
     ]
    },
    {
     "data": {
      "text/plain": [
       "0.18181818181818182"
      ]
     },
     "execution_count": 11,
     "metadata": {},
     "output_type": "execute_result"
    }
   ],
   "source": [
    "pun_per = len([word for word in word_tokenize(para) if not word.isalnum()])\n",
    "\n",
    "print('Count % of the punctuation mark: ')\n",
    "pun_per / len(word_tokenize(para))"
   ]
  },
  {
   "cell_type": "markdown",
   "id": "fbe450d7",
   "metadata": {},
   "source": [
    "# Print total number of lines"
   ]
  },
  {
   "cell_type": "code",
   "execution_count": 12,
   "id": "86386d28",
   "metadata": {},
   "outputs": [
    {
     "data": {
      "text/plain": [
       "5"
      ]
     },
     "execution_count": 12,
     "metadata": {},
     "output_type": "execute_result"
    }
   ],
   "source": [
    "sent = para.split('.')\n",
    "num_lines = len(sent)\n",
    "num_lines"
   ]
  },
  {
   "cell_type": "markdown",
   "id": "a66da92b",
   "metadata": {},
   "source": [
    "# How many words are there in title case"
   ]
  },
  {
   "cell_type": "code",
   "execution_count": 13,
   "id": "76bffb69",
   "metadata": {},
   "outputs": [
    {
     "data": {
      "text/plain": [
       "20"
      ]
     },
     "execution_count": 13,
     "metadata": {},
     "output_type": "execute_result"
    }
   ],
   "source": [
    "count_title = 0\n",
    "\n",
    "for word in word_tokenize(para):\n",
    "    \n",
    "    if word.istitle():\n",
    "        \n",
    "        count_title = count_title + 1\n",
    "        \n",
    "count_title\n",
    "        "
   ]
  },
  {
   "cell_type": "markdown",
   "id": "17455e60",
   "metadata": {},
   "source": [
    "# Remove the numbers and print the text"
   ]
  },
  {
   "cell_type": "code",
   "execution_count": 14,
   "id": "82a3b294",
   "metadata": {
    "scrolled": true
   },
   "outputs": [
    {
     "name": "stdout",
     "output_type": "stream",
     "text": [
      "The\n",
      "national\n",
      "flag\n",
      "of\n",
      "India,\n",
      "colloquially\n",
      "called\n",
      "Tiraṅgā\n",
      "(the\n",
      "tricolour),\n",
      "is\n",
      "a\n",
      "horizontal\n",
      "rectangular\n",
      "tricolour\n",
      "flag,\n",
      "the\n",
      "colours\n",
      "being\n",
      "of\n",
      "India\n",
      "saffron,\n",
      "white\n",
      "and\n",
      "India\n",
      "green;\n",
      "with\n",
      "the\n",
      "Ashoka\n",
      "Chakra,\n",
      "a\n",
      "24-spoke\n",
      "wheel,\n",
      "in\n",
      "navy\n",
      "blue\n",
      "at\n",
      "its\n",
      "centre.[1][2]\n",
      "It\n",
      "was\n",
      "adopted\n",
      "in\n",
      "its\n",
      "present\n",
      "form\n",
      "during\n",
      "a\n",
      "meeting\n",
      "of\n",
      "the\n",
      "Constituent\n",
      "Assembly\n",
      "held\n",
      "on\n",
      "July\n",
      "1947,\n",
      "and\n",
      "it\n",
      "became\n",
      "the\n",
      "official\n",
      "flag\n",
      "of\n",
      "the\n",
      "Union\n",
      "of\n",
      "India\n",
      "on\n",
      "August\n",
      "1947.\n",
      "The\n",
      "flag\n",
      "was\n",
      "subsequently\n",
      "retained\n",
      "as\n",
      "that\n",
      "of\n",
      "the\n",
      "Republic\n",
      "of\n",
      "India.\n",
      "In\n",
      "India,\n",
      "the\n",
      "term\n",
      "\"tricolour\"\n",
      "almost\n",
      "always\n",
      "refers\n",
      "to\n",
      "the\n",
      "Indian\n",
      "national\n",
      "flag.\n"
     ]
    }
   ],
   "source": [
    "for words in para.split():\n",
    "    \n",
    "    if not words.isdigit():\n",
    "        \n",
    "        print(words)"
   ]
  },
  {
   "cell_type": "code",
   "execution_count": null,
   "id": "13466400",
   "metadata": {},
   "outputs": [],
   "source": []
  }
 ],
 "metadata": {
  "kernelspec": {
   "display_name": "Python 3 (ipykernel)",
   "language": "python",
   "name": "python3"
  },
  "language_info": {
   "codemirror_mode": {
    "name": "ipython",
    "version": 3
   },
   "file_extension": ".py",
   "mimetype": "text/x-python",
   "name": "python",
   "nbconvert_exporter": "python",
   "pygments_lexer": "ipython3",
   "version": "3.11.7"
  }
 },
 "nbformat": 4,
 "nbformat_minor": 5
}
